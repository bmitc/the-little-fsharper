{
 "cells": [
  {
   "cell_type": "markdown",
   "metadata": {
    "dotnet_interactive": {
     "language": "fsharp"
    }
   },
   "source": [
    "## Dependencies"
   ]
  },
  {
   "cell_type": "code",
   "execution_count": null,
   "metadata": {
    "dotnet_interactive": {
     "language": "fsharp"
    },
    "vscode": {
     "languageId": "dotnet-interactive.fsharp"
    }
   },
   "outputs": [],
   "source": [
    "#load \"Utilities.fsx\"\n",
    "\n",
    "open Utilities"
   ]
  },
  {
   "cell_type": "markdown",
   "metadata": {
    "dotnet_interactive": {
     "language": "fsharp"
    }
   },
   "source": [
    "## References\n",
    "\n",
    "1. [Wildcard Pattern](https://docs.microsoft.com/en-us/dotnet/fsharp/language-reference/pattern-matching#wildcard-pattern)\n",
    "\n",
    "2. [Tuples](https://docs.microsoft.com/en-us/dotnet/fsharp/language-reference/tuples)\n",
    "\n",
    "3. [Most F# types have built-in structural equality](https://fsharpforfunandprofit.com/posts/convenience-types/#most-f-types-have-built-in-structural-equality)"
   ]
  },
  {
   "cell_type": "markdown",
   "metadata": {},
   "source": [
    "## Chapter 4: Look to the Stars"
   ]
  },
  {
   "cell_type": "code",
   "execution_count": null,
   "metadata": {
    "dotnet_interactive": {
     "language": "fsharp"
    },
    "vscode": {
     "languageId": "dotnet-interactive.fsharp"
    }
   },
   "outputs": [],
   "source": [
    "// Line 4\n",
    "type Meza =\n",
    "    | Shrimp\n",
    "    | Calamari\n",
    "    | Escargots\n",
    "    | Hummus"
   ]
  },
  {
   "cell_type": "code",
   "execution_count": null,
   "metadata": {
    "dotnet_interactive": {
     "language": "fsharp"
    },
    "vscode": {
     "languageId": "dotnet-interactive.fsharp"
    }
   },
   "outputs": [],
   "source": [
    "// Line 5\n",
    "\n",
    "type Main =\n",
    "    | Steak\n",
    "    | Ravioli\n",
    "    | Chicken\n",
    "    | Eggplant\n",
    "\n",
    "type Salad =\n",
    "    | Green\n",
    "    | Cucumber\n",
    "    | Greek"
   ]
  },
  {
   "cell_type": "code",
   "execution_count": null,
   "metadata": {
    "dotnet_interactive": {
     "language": "fsharp"
    },
    "vscode": {
     "languageId": "dotnet-interactive.fsharp"
    }
   },
   "outputs": [],
   "source": [
    "// Line 6\n",
    "type Dessert =\n",
    "    | Sundae\n",
    "    | Mousse\n",
    "    | Torte"
   ]
  },
  {
   "cell_type": "code",
   "execution_count": null,
   "metadata": {
    "dotnet_interactive": {
     "language": "fsharp"
    },
    "vscode": {
     "languageId": "dotnet-interactive.fsharp"
    }
   },
   "outputs": [
    {
     "data": {
      "text/plain": [
       "Tuple<Meza,Main,Salad,Dessert>"
      ]
     },
     "metadata": {},
     "output_type": "display_data"
    }
   ],
   "source": [
    "// Line 9\n",
    "(Calamari, Ravioli, Greek, Sundae) |> getType"
   ]
  },
  {
   "cell_type": "code",
   "execution_count": null,
   "metadata": {
    "dotnet_interactive": {
     "language": "fsharp"
    },
    "vscode": {
     "languageId": "dotnet-interactive.fsharp"
    }
   },
   "outputs": [
    {
     "data": {
      "text/plain": [
       "Tuple<Meza,Main,Salad,Dessert>"
      ]
     },
     "metadata": {},
     "output_type": "display_data"
    }
   ],
   "source": [
    "// Line 11\n",
    "(Hummus, Steak, Green, Torte) |> getType"
   ]
  },
  {
   "cell_type": "code",
   "execution_count": null,
   "metadata": {
    "dotnet_interactive": {
     "language": "fsharp"
    },
    "vscode": {
     "languageId": "dotnet-interactive.fsharp"
    }
   },
   "outputs": [
    {
     "data": {
      "text/plain": [
       "Tuple<Meza,Dessert>"
      ]
     },
     "metadata": {},
     "output_type": "display_data"
    }
   ],
   "source": [
    "// Line 18\n",
    "// Line 19\n",
    "(Shrimp, Sundae) |> getType"
   ]
  },
  {
   "cell_type": "code",
   "execution_count": null,
   "metadata": {
    "dotnet_interactive": {
     "language": "fsharp"
    },
    "vscode": {
     "languageId": "dotnet-interactive.fsharp"
    }
   },
   "outputs": [
    {
     "data": {
      "text/plain": [
       "addASteak: Meza -> Meza * Main"
      ]
     },
     "metadata": {},
     "output_type": "display_data"
    }
   ],
   "source": [
    "// Line 25\n",
    "let addASteak meza =\n",
    "    match meza with\n",
    "    | Shrimp    -> (Shrimp, Steak)\n",
    "    | Calamari  -> (Calamari, Steak)\n",
    "    | Escargots -> (Escargots, Steak)\n",
    "    | Hummus    -> (Hummus, Steak)\n",
    "\n",
    "addASteak |> getTypeSignature |> sprintWithLabel \"addASteak\""
   ]
  },
  {
   "cell_type": "code",
   "execution_count": null,
   "metadata": {
    "dotnet_interactive": {
     "language": "fsharp"
    },
    "vscode": {
     "languageId": "dotnet-interactive.fsharp"
    }
   },
   "outputs": [
    {
     "name": "stdout",
     "output_type": "stream",
     "text": [
      "(Shrimp, Steak)\r\n"
     ]
    }
   ],
   "source": [
    "// Line 21\n",
    "addASteak Shrimp |> print"
   ]
  },
  {
   "cell_type": "code",
   "execution_count": null,
   "metadata": {
    "dotnet_interactive": {
     "language": "fsharp"
    },
    "vscode": {
     "languageId": "dotnet-interactive.fsharp"
    }
   },
   "outputs": [
    {
     "name": "stdout",
     "output_type": "stream",
     "text": [
      "(Hummus, Steak)\r\n"
     ]
    }
   ],
   "source": [
    "// Line 22\n",
    "addASteak Hummus |> print"
   ]
  },
  {
   "cell_type": "code",
   "execution_count": null,
   "metadata": {
    "dotnet_interactive": {
     "language": "fsharp"
    },
    "vscode": {
     "languageId": "dotnet-interactive.fsharp"
    }
   },
   "outputs": [
    {
     "data": {
      "text/plain": [
       "addASteak: 'T -> 'T * Main"
      ]
     },
     "metadata": {},
     "output_type": "display_data"
    }
   ],
   "source": [
    "// Line 27\n",
    "// Line 33\n",
    "let addASteak x = (x, Steak)\n",
    "\n",
    "addASteak |> getTypeSignature |> sprintWithLabel \"addASteak\""
   ]
  },
  {
   "cell_type": "code",
   "execution_count": null,
   "metadata": {
    "dotnet_interactive": {
     "language": "fsharp"
    },
    "vscode": {
     "languageId": "dotnet-interactive.fsharp"
    }
   },
   "outputs": [
    {
     "name": "stdout",
     "output_type": "stream",
     "text": [
      "(Escargots, Steak)\r\n"
     ]
    }
   ],
   "source": [
    "// Line 28\n",
    "addASteak Escargots |> print"
   ]
  },
  {
   "cell_type": "code",
   "execution_count": null,
   "metadata": {
    "dotnet_interactive": {
     "language": "fsharp"
    },
    "vscode": {
     "languageId": "dotnet-interactive.fsharp"
    }
   },
   "outputs": [
    {
     "name": "stdout",
     "output_type": "stream",
     "text": [
      "(5, Steak)\r\n"
     ]
    }
   ],
   "source": [
    "// Line 29\n",
    "addASteak 5 |> print"
   ]
  },
  {
   "cell_type": "code",
   "execution_count": null,
   "metadata": {
    "dotnet_interactive": {
     "language": "fsharp"
    },
    "vscode": {
     "languageId": "dotnet-interactive.fsharp"
    }
   },
   "outputs": [],
   "source": [
    "// Line 42\n",
    "let eqMain mainDishes =\n",
    "    match mainDishes with\n",
    "    | Steak,    Steak    -> true\n",
    "    | Steak,    Ravioli  -> false\n",
    "    | Steak,    Chicken  -> false\n",
    "    | Steak,    Eggplant -> false\n",
    "    | Ravioli,  Steak    -> false\n",
    "    | Ravioli,  Ravioli  -> true\n",
    "    | Ravioli,  Chicken  -> false\n",
    "    | Ravioli,  Eggplant -> false\n",
    "    | Chicken,  Steak    -> false\n",
    "    | Chicken,  Ravioli  -> false\n",
    "    | Chicken,  Chicken  -> true\n",
    "    | Chicken,  Eggplant -> false\n",
    "    | Eggplant, Steak    -> false\n",
    "    | Eggplant, Ravioli  -> false\n",
    "    | Eggplant, Chicken  -> false\n",
    "    | Eggplant, Eggplant -> true"
   ]
  },
  {
   "cell_type": "code",
   "execution_count": null,
   "metadata": {
    "dotnet_interactive": {
     "language": "fsharp"
    },
    "vscode": {
     "languageId": "dotnet-interactive.fsharp"
    }
   },
   "outputs": [
    {
     "data": {
      "text/plain": [
       "eqMain: Main * Main -> Boolean"
      ]
     },
     "metadata": {},
     "output_type": "display_data"
    }
   ],
   "source": [
    "// Line 43\n",
    "eqMain |> getTypeSignature |> sprintWithLabel \"eqMain\""
   ]
  },
  {
   "cell_type": "code",
   "execution_count": null,
   "metadata": {
    "dotnet_interactive": {
     "language": "fsharp"
    },
    "vscode": {
     "languageId": "dotnet-interactive.fsharp"
    }
   },
   "outputs": [],
   "source": [
    "// Line 46\n",
    "let eqMain mainDishes =\n",
    "    match mainDishes with\n",
    "    | Steak, Steak       -> true\n",
    "    | Ravioli, Ravioli   -> true\n",
    "    | Chicken, Chicken   -> true\n",
    "    | Eggplant, Eggplant -> true\n",
    "    | _                  -> false"
   ]
  },
  {
   "cell_type": "markdown",
   "metadata": {},
   "source": [
    "Note: F# has structural equality for most types, so there's an even shorter way. (It's possible a shorter way exists in SML as well.)"
   ]
  },
  {
   "cell_type": "code",
   "execution_count": null,
   "metadata": {
    "dotnet_interactive": {
     "language": "fsharp"
    },
    "vscode": {
     "languageId": "dotnet-interactive.fsharp"
    }
   },
   "outputs": [],
   "source": [
    "let eqMain (main1: Main, main2: Main) = main1 = main2"
   ]
  },
  {
   "cell_type": "code",
   "execution_count": null,
   "metadata": {
    "dotnet_interactive": {
     "language": "fsharp"
    },
    "vscode": {
     "languageId": "dotnet-interactive.fsharp"
    }
   },
   "outputs": [],
   "source": [
    "// Line 50\n",
    "// Line 51\n",
    "// Line 52\n",
    "// Line 54\n",
    "let hasSteak meal =\n",
    "    match meal with\n",
    "    | _meza, Steak, _dessert -> true\n",
    "    | _                      -> false"
   ]
  },
  {
   "cell_type": "code",
   "execution_count": null,
   "metadata": {
    "dotnet_interactive": {
     "language": "fsharp"
    },
    "vscode": {
     "languageId": "dotnet-interactive.fsharp"
    }
   },
   "outputs": [
    {
     "data": {
      "text/plain": [
       "hasSteak: 'T * Main * 'T -> Boolean"
      ]
     },
     "metadata": {},
     "output_type": "display_data"
    }
   ],
   "source": [
    "// Line 55\n",
    "// Line 60\n",
    "// TODO: Need to fix getTypeSignature for multiple generic types\n",
    "hasSteak |> getTypeSignature |> sprintWithLabel \"hasSteak\""
   ]
  },
  {
   "cell_type": "code",
   "execution_count": null,
   "metadata": {
    "dotnet_interactive": {
     "language": "fsharp"
    },
    "vscode": {
     "languageId": "dotnet-interactive.fsharp"
    }
   },
   "outputs": [
    {
     "data": {
      "text/html": [
       "<div class=\"dni-plaintext\">False</div>"
      ]
     },
     "metadata": {},
     "output_type": "display_data"
    }
   ],
   "source": [
    "// Line 48\n",
    "hasSteak (Hummus, Ravioli, Sundae)"
   ]
  },
  {
   "cell_type": "code",
   "execution_count": null,
   "metadata": {
    "dotnet_interactive": {
     "language": "fsharp"
    },
    "vscode": {
     "languageId": "dotnet-interactive.fsharp"
    }
   },
   "outputs": [
    {
     "data": {
      "text/html": [
       "<div class=\"dni-plaintext\">True</div>"
      ]
     },
     "metadata": {},
     "output_type": "display_data"
    }
   ],
   "source": [
    "// Line 49\n",
    "hasSteak (Shrimp, Steak, Mousse)"
   ]
  },
  {
   "cell_type": "code",
   "execution_count": null,
   "metadata": {
    "dotnet_interactive": {
     "language": "fsharp"
    },
    "vscode": {
     "languageId": "dotnet-interactive.fsharp"
    }
   },
   "outputs": [
    {
     "data": {
      "text/html": [
       "<div class=\"dni-plaintext\">True</div>"
      ]
     },
     "metadata": {},
     "output_type": "display_data"
    }
   ],
   "source": [
    "// Line 56\n",
    "hasSteak (5, Steak, true)"
   ]
  },
  {
   "cell_type": "code",
   "execution_count": null,
   "metadata": {
    "dotnet_interactive": {
     "language": "fsharp"
    },
    "vscode": {
     "languageId": "dotnet-interactive.fsharp"
    }
   },
   "outputs": [
    {
     "data": {
      "text/html": [
       "<div class=\"dni-plaintext\">False</div>"
      ]
     },
     "metadata": {},
     "output_type": "display_data"
    }
   ],
   "source": [
    "// Line 62\n",
    "hasSteak (5, Ravioli, 6)"
   ]
  },
  {
   "cell_type": "code",
   "execution_count": null,
   "metadata": {
    "dotnet_interactive": {
     "language": "fsharp"
    },
    "vscode": {
     "languageId": "dotnet-interactive.fsharp"
    }
   },
   "outputs": [
    {
     "data": {
      "text/plain": [
       "hasSteak: Meza * Main * Dessert -> Boolean"
      ]
     },
     "metadata": {},
     "output_type": "display_data"
    }
   ],
   "source": [
    "// Line 65\n",
    "// Line 66\n",
    "let hasSteak (_meza: Meza, main, _dessert: Dessert) =\n",
    "    match main with\n",
    "    | Steak -> true\n",
    "    | _     -> false\n",
    "\n",
    "hasSteak |> getTypeSignature |> sprintWithLabel \"hasSteak\""
   ]
  },
  {
   "cell_type": "markdown",
   "metadata": {},
   "source": [
    "Another even shorter way:"
   ]
  },
  {
   "cell_type": "code",
   "execution_count": null,
   "metadata": {
    "dotnet_interactive": {
     "language": "fsharp"
    },
    "vscode": {
     "languageId": "dotnet-interactive.fsharp"
    }
   },
   "outputs": [],
   "source": [
    "let hasSteak (_meza: Meza, main, _dessert: Dessert) = main = Steak"
   ]
  },
  {
   "cell_type": "code",
   "execution_count": null,
   "metadata": {
    "dotnet_interactive": {
     "language": "fsharp"
    },
    "vscode": {
     "languageId": "dotnet-interactive.fsharp"
    }
   },
   "outputs": [
    {
     "data": {
      "text/plain": [
       "addASteak: Meza -> Meza * Main"
      ]
     },
     "metadata": {},
     "output_type": "display_data"
    }
   ],
   "source": [
    "// Line 67\n",
    "let addASteak (meza: Meza) = (meza, Steak)\n",
    "\n",
    "addASteak |> getTypeSignature |> sprintWithLabel \"addASteak\""
   ]
  },
  {
   "cell_type": "markdown",
   "metadata": {},
   "source": [
    "## The Fourth Moral\n",
    "\n",
    "Some functions consume values of star type; some produce values of star type."
   ]
  }
 ],
 "metadata": {
  "kernelspec": {
   "display_name": ".NET (F#)",
   "language": "F#",
   "name": ".net-fsharp"
  },
  "language_info": {
   "name": "F#"
  }
 },
 "nbformat": 4,
 "nbformat_minor": 2
}
