{
    "cells": [
        {
            "cell_type": "markdown",
            "metadata": {
                "dotnet_interactive": {
                    "language": "fsharp"
                }
            },
            "source": [
                "## Dependencies"
            ]
        },
        {
            "cell_type": "code",
            "execution_count": null,
            "metadata": {
                "dotnet_interactive": {
                    "language": "fsharp"
                },
                "vscode": {
                    "languageId": "dotnet-interactive.fsharp"
                }
            },
            "outputs": [],
            "source": [
                "#load \"Utilities.fsx\"\n",
                "#load \"CommonTypes.fsx\"\n",
                "\n",
                "open Utilities\n",
                "open CommonTypes"
            ]
        },
        {
            "cell_type": "markdown",
            "metadata": {},
            "source": [
                "## References\n",
                "\n",
                "1. [F# Pattern Matching](https://docs.microsoft.com/en-us/dotnet/fsharp/language-reference/pattern-matching)\n",
                "\n",
                "2. [F# Match expressions](https://docs.microsoft.com/en-us/dotnet/fsharp/language-reference/match-expressions)"
            ]
        },
        {
            "cell_type": "markdown",
            "metadata": {},
            "source": [
                "## Chapter 2: Matchmaker, Matchmaker"
            ]
        },
        {
            "cell_type": "code",
            "execution_count": null,
            "metadata": {
                "dotnet_interactive": {
                    "language": "fsharp"
                },
                "vscode": {
                    "languageId": "dotnet-interactive.fsharp"
                }
            },
            "outputs": [],
            "source": [
                "// Line 1\n",
                "type ShishKebab =\n",
                "    | Skewer\n",
                "    | Onion  of ShishKebab\n",
                "    | Lamb   of ShishKebab\n",
                "    | Tomato of ShishKebab"
            ]
        },
        {
            "cell_type": "code",
            "execution_count": null,
            "metadata": {
                "dotnet_interactive": {
                    "language": "fsharp"
                },
                "vscode": {
                    "languageId": "dotnet-interactive.fsharp"
                }
            },
            "outputs": [
                {
                    "data": {
                        "text/plain": [
                            "ShishKebab"
                        ]
                    },
                    "metadata": {},
                    "output_type": "display_data"
                }
            ],
            "source": [
                "// Line 2\n",
                "Skewer |> getType"
            ]
        },
        {
            "cell_type": "code",
            "execution_count": null,
            "metadata": {
                "dotnet_interactive": {
                    "language": "fsharp"
                },
                "vscode": {
                    "languageId": "dotnet-interactive.fsharp"
                }
            },
            "outputs": [
                {
                    "data": {
                        "text/plain": [
                            "ShishKebab"
                        ]
                    },
                    "metadata": {},
                    "output_type": "display_data"
                }
            ],
            "source": [
                "// Line 3\n",
                "Onion Skewer |> getType"
            ]
        },
        {
            "cell_type": "code",
            "execution_count": null,
            "metadata": {
                "dotnet_interactive": {
                    "language": "fsharp"
                },
                "vscode": {
                    "languageId": "dotnet-interactive.fsharp"
                }
            },
            "outputs": [
                {
                    "data": {
                        "text/plain": [
                            "ShishKebab"
                        ]
                    },
                    "metadata": {},
                    "output_type": "display_data"
                }
            ],
            "source": [
                "// Line 4\n",
                "Onion (Lamb (Onion Skewer)) |> getType"
            ]
        },
        {
            "cell_type": "code",
            "execution_count": null,
            "metadata": {
                "dotnet_interactive": {
                    "language": "fsharp"
                },
                "vscode": {
                    "languageId": "dotnet-interactive.fsharp"
                }
            },
            "outputs": [],
            "source": [
                "// Line 15\n",
                "let rec onlyOnions shishKebab =\n",
                "    match shishKebab with\n",
                "    | Skewer    -> true\n",
                "    | Onion sk  -> onlyOnions sk\n",
                "    | Lamb sk   -> false\n",
                "    | Tomato sk -> false"
            ]
        },
        {
            "cell_type": "markdown",
            "metadata": {
                "dotnet_interactive": {
                    "language": "fsharp"
                }
            },
            "source": [
                "**Note**: The above function could be defined as\n",
                "\n",
                "```fsharp\n",
                "let rec onlyOnions = function\n",
                "    | Skewer    -> true\n",
                "    | Onion sk  -> onlyOnions sk\n",
                "    | Lamb sk   -> false\n",
                "    | Tomato sk -> false\n",
                "```\n",
                "\n",
                "However, I prefer explicit `match with` expressions because naming the argument helps, well, name the argument and make it clear what we're pattern matching on."
            ]
        },
        {
            "cell_type": "code",
            "execution_count": null,
            "metadata": {
                "dotnet_interactive": {
                    "language": "fsharp"
                },
                "vscode": {
                    "languageId": "dotnet-interactive.fsharp"
                }
            },
            "outputs": [
                {
                    "data": {
                        "text/plain": [
                            "ShishKebab -> Boolean"
                        ]
                    },
                    "metadata": {},
                    "output_type": "display_data"
                }
            ],
            "source": [
                "// Line 15\n",
                "onlyOnions |> getTypeSignature"
            ]
        },
        {
            "cell_type": "code",
            "execution_count": null,
            "metadata": {
                "dotnet_interactive": {
                    "language": "fsharp"
                },
                "vscode": {
                    "languageId": "dotnet-interactive.fsharp"
                }
            },
            "outputs": [
                {
                    "data": {
                        "text/plain": [
                            "onlyOnions: ShishKebab -> Boolean"
                        ]
                    },
                    "metadata": {},
                    "output_type": "display_data"
                }
            ],
            "source": [
                "// Line 15\n",
                "// Line 16\n",
                "// Line 17\n",
                "onlyOnions |> getTypeSignature |> sprintWithLabel \"onlyOnions\""
            ]
        },
        {
            "cell_type": "code",
            "execution_count": null,
            "metadata": {
                "dotnet_interactive": {
                    "language": "fsharp"
                },
                "vscode": {
                    "languageId": "dotnet-interactive.fsharp"
                }
            },
            "outputs": [
                {
                    "data": {
                        "text/html": [
                            "<div class=\"dni-plaintext\">True</div>"
                        ]
                    },
                    "metadata": {},
                    "output_type": "display_data"
                }
            ],
            "source": [
                "// Line 24\n",
                "// Line 42\n",
                "onlyOnions (Onion (Onion Skewer))"
            ]
        },
        {
            "cell_type": "code",
            "execution_count": null,
            "metadata": {
                "dotnet_interactive": {
                    "language": "fsharp"
                },
                "vscode": {
                    "languageId": "dotnet-interactive.fsharp"
                }
            },
            "outputs": [
                {
                    "data": {
                        "text/html": [
                            "<div class=\"dni-plaintext\">False</div>"
                        ]
                    },
                    "metadata": {},
                    "output_type": "display_data"
                }
            ],
            "source": [
                "// Line 43\n",
                "// Line 54\n",
                "onlyOnions (Onion (Lamb Skewer))"
            ]
        },
        {
            "cell_type": "code",
            "execution_count": null,
            "metadata": {
                "dotnet_interactive": {
                    "language": "fsharp"
                },
                "vscode": {
                    "languageId": "dotnet-interactive.fsharp"
                }
            },
            "outputs": [
                {
                    "ename": "Error",
                    "evalue": "input.fsx (2,12)-(2,13) typecheck error This expression was expected to have type\n    'ShishKebab'    \nbut here has type\n    'int'    ",
                    "output_type": "error",
                    "traceback": [
                        "input.fsx (2,12)-(2,13) typecheck error This expression was expected to have type\n",
                        "    'ShishKebab'    \n",
                        "but here has type\n",
                        "    'int'    "
                    ]
                }
            ],
            "source": [
                "// Line 57\n",
                "onlyOnions 5"
            ]
        },
        {
            "cell_type": "code",
            "execution_count": null,
            "metadata": {
                "dotnet_interactive": {
                    "language": "fsharp"
                },
                "vscode": {
                    "languageId": "dotnet-interactive.fsharp"
                }
            },
            "outputs": [
                {
                    "data": {
                        "text/plain": [
                            "ShishKebab"
                        ]
                    },
                    "metadata": {},
                    "output_type": "display_data"
                }
            ],
            "source": [
                "// Line 58\n",
                "Tomato Skewer |> getType"
            ]
        },
        {
            "cell_type": "code",
            "execution_count": null,
            "metadata": {
                "dotnet_interactive": {
                    "language": "fsharp"
                },
                "vscode": {
                    "languageId": "dotnet-interactive.fsharp"
                }
            },
            "outputs": [
                {
                    "data": {
                        "text/plain": [
                            "ShishKebab"
                        ]
                    },
                    "metadata": {},
                    "output_type": "display_data"
                }
            ],
            "source": [
                "// Line 59\n",
                "Onion (Tomato Skewer) |> getType"
            ]
        },
        {
            "cell_type": "code",
            "execution_count": null,
            "metadata": {
                "dotnet_interactive": {
                    "language": "fsharp"
                },
                "vscode": {
                    "languageId": "dotnet-interactive.fsharp"
                }
            },
            "outputs": [
                {
                    "data": {
                        "text/plain": [
                            "ShishKebab"
                        ]
                    },
                    "metadata": {},
                    "output_type": "display_data"
                }
            ],
            "source": [
                "// Line 61\n",
                "Tomato (Onion (Tomato Skewer)) |> getType"
            ]
        },
        {
            "cell_type": "code",
            "execution_count": null,
            "metadata": {
                "dotnet_interactive": {
                    "language": "fsharp"
                },
                "vscode": {
                    "languageId": "dotnet-interactive.fsharp"
                }
            },
            "outputs": [
                {
                    "data": {
                        "text/plain": [
                            "ShishKebab"
                        ]
                    },
                    "metadata": {},
                    "output_type": "display_data"
                }
            ],
            "source": [
                "// Line 62\n",
                "Onion (Onion (Onion Skewer)) |> getType"
            ]
        },
        {
            "cell_type": "code",
            "execution_count": null,
            "metadata": {
                "dotnet_interactive": {
                    "language": "fsharp"
                },
                "vscode": {
                    "languageId": "dotnet-interactive.fsharp"
                }
            },
            "outputs": [
                {
                    "data": {
                        "text/plain": [
                            "isVegetarian: ShishKebab -> Boolean"
                        ]
                    },
                    "metadata": {},
                    "output_type": "display_data"
                }
            ],
            "source": [
                "// Line 63\n",
                "let rec isVegetarian skewer =\n",
                "    match skewer with\n",
                "    | Skewer    -> true\n",
                "    | Onion sk  -> isVegetarian sk\n",
                "    | Lamb sk   -> false\n",
                "    | Tomato sk -> isVegetarian sk\n",
                "\n",
                "isVegetarian |> getTypeSignature |> sprintWithLabel \"isVegetarian\""
            ]
        },
        {
            "cell_type": "code",
            "execution_count": null,
            "metadata": {
                "dotnet_interactive": {
                    "language": "fsharp"
                },
                "vscode": {
                    "languageId": "dotnet-interactive.fsharp"
                }
            },
            "outputs": [],
            "source": [
                "// Line 64\n",
                "type Shish<'T> =\n",
                "    | Bottom of 'T\n",
                "    | Onion  of Shish<'T>\n",
                "    | Lamb   of Shish<'T>\n",
                "    | Tomato of Shish<'T>     "
            ]
        },
        {
            "cell_type": "code",
            "execution_count": null,
            "metadata": {
                "dotnet_interactive": {
                    "language": "fsharp"
                },
                "vscode": {
                    "languageId": "dotnet-interactive.fsharp"
                }
            },
            "outputs": [],
            "source": [
                "// Line 67\n",
                "type Rod =\n",
                "    | Dagger\n",
                "    | Fork\n",
                "    | Sword"
            ]
        },
        {
            "cell_type": "code",
            "execution_count": null,
            "metadata": {
                "dotnet_interactive": {
                    "language": "fsharp"
                },
                "vscode": {
                    "languageId": "dotnet-interactive.fsharp"
                }
            },
            "outputs": [],
            "source": [
                "// Line 68\n",
                "type Plate =\n",
                "    | GoldPlate\n",
                "    | SilverPlate\n",
                "    | BrassPlate"
            ]
        },
        {
            "cell_type": "code",
            "execution_count": null,
            "metadata": {
                "dotnet_interactive": {
                    "language": "fsharp"
                },
                "vscode": {
                    "languageId": "dotnet-interactive.fsharp"
                }
            },
            "outputs": [
                {
                    "data": {
                        "text/plain": [
                            "Shish<Rod>"
                        ]
                    },
                    "metadata": {},
                    "output_type": "display_data"
                }
            ],
            "source": [
                "// Line 69\n",
                "// Line 70\n",
                "Onion (Tomato (Bottom Dagger)) |> getType"
            ]
        },
        {
            "cell_type": "code",
            "execution_count": null,
            "metadata": {
                "dotnet_interactive": {
                    "language": "fsharp"
                },
                "vscode": {
                    "languageId": "dotnet-interactive.fsharp"
                }
            },
            "outputs": [
                {
                    "data": {
                        "text/plain": [
                            "Shish<Plate>"
                        ]
                    },
                    "metadata": {},
                    "output_type": "display_data"
                }
            ],
            "source": [
                "// Line 71\n",
                "// Line 72\n",
                "Onion (Tomato (Bottom GoldPlate)) |> getType"
            ]
        },
        {
            "cell_type": "code",
            "execution_count": null,
            "metadata": {
                "dotnet_interactive": {
                    "language": "fsharp"
                },
                "vscode": {
                    "languageId": "dotnet-interactive.fsharp"
                }
            },
            "outputs": [
                {
                    "data": {
                        "text/plain": [
                            "isVeggie: Shish<'T> -> Boolean"
                        ]
                    },
                    "metadata": {},
                    "output_type": "display_data"
                }
            ],
            "source": [
                "// Line 73\n",
                "let rec isVeggie shish =\n",
                "    match shish with\n",
                "    | Bottom sk -> true\n",
                "    | Onion sk  -> isVeggie sk\n",
                "    | Lamb sk   -> false\n",
                "    | Tomato sk -> isVeggie sk\n",
                "\n",
                "isVeggie |> getTypeSignature |> sprintWithLabel \"isVeggie\""
            ]
        },
        {
            "cell_type": "code",
            "execution_count": null,
            "metadata": {
                "dotnet_interactive": {
                    "language": "fsharp"
                },
                "vscode": {
                    "languageId": "dotnet-interactive.fsharp"
                }
            },
            "outputs": [
                {
                    "ename": "Error",
                    "evalue": "input.fsx (2,17)-(2,21) typecheck error This expression was expected to have type\n    'Shish<obj>'    \nbut here has type\n    'Rod'    ",
                    "output_type": "error",
                    "traceback": [
                        "input.fsx (2,17)-(2,21) typecheck error This expression was expected to have type\n",
                        "    'Shish<obj>'    \n",
                        "but here has type\n",
                        "    'Rod'    "
                    ]
                }
            ],
            "source": [
                "// Line 74\n",
                "isVeggie (Onion Fork)"
            ]
        },
        {
            "cell_type": "code",
            "execution_count": null,
            "metadata": {
                "dotnet_interactive": {
                    "language": "fsharp"
                },
                "vscode": {
                    "languageId": "dotnet-interactive.fsharp"
                }
            },
            "outputs": [
                {
                    "data": {
                        "text/html": [
                            "<div class=\"dni-plaintext\">True</div>"
                        ]
                    },
                    "metadata": {},
                    "output_type": "display_data"
                }
            ],
            "source": [
                "// Line 76\n",
                "isVeggie (Onion (Tomato (Bottom Dagger)))"
            ]
        },
        {
            "cell_type": "code",
            "execution_count": null,
            "metadata": {
                "dotnet_interactive": {
                    "language": "fsharp"
                },
                "vscode": {
                    "languageId": "dotnet-interactive.fsharp"
                }
            },
            "outputs": [
                {
                    "data": {
                        "text/plain": [
                            "Shish<Rod>"
                        ]
                    },
                    "metadata": {},
                    "output_type": "display_data"
                }
            ],
            "source": [
                "// Line 77\n",
                "Onion (Tomato (Bottom Dagger)) |> getType"
            ]
        },
        {
            "cell_type": "code",
            "execution_count": null,
            "metadata": {
                "dotnet_interactive": {
                    "language": "fsharp"
                },
                "vscode": {
                    "languageId": "dotnet-interactive.fsharp"
                }
            },
            "outputs": [
                {
                    "data": {
                        "text/html": [
                            "<div class=\"dni-plaintext\">True</div>"
                        ]
                    },
                    "metadata": {},
                    "output_type": "display_data"
                }
            ],
            "source": [
                "// Line 78\n",
                "isVeggie (Onion (Tomato (Bottom GoldPlate)))"
            ]
        },
        {
            "cell_type": "code",
            "execution_count": null,
            "metadata": {
                "dotnet_interactive": {
                    "language": "fsharp"
                },
                "vscode": {
                    "languageId": "dotnet-interactive.fsharp"
                }
            },
            "outputs": [
                {
                    "data": {
                        "text/plain": [
                            "Shish<Plate>"
                        ]
                    },
                    "metadata": {},
                    "output_type": "display_data"
                }
            ],
            "source": [
                "// Line 79\n",
                "Onion (Tomato (Bottom GoldPlate)) |> getType"
            ]
        },
        {
            "cell_type": "code",
            "execution_count": null,
            "metadata": {
                "dotnet_interactive": {
                    "language": "fsharp"
                },
                "vscode": {
                    "languageId": "dotnet-interactive.fsharp"
                }
            },
            "outputs": [
                {
                    "data": {
                        "text/plain": [
                            "isVeggie: Shish<'T> -> Boolean"
                        ]
                    },
                    "metadata": {},
                    "output_type": "display_data"
                }
            ],
            "source": [
                "// Line 82\n",
                "isVeggie |> getTypeSignature |> sprintWithLabel \"isVeggie\""
            ]
        },
        {
            "cell_type": "code",
            "execution_count": null,
            "metadata": {
                "dotnet_interactive": {
                    "language": "fsharp"
                },
                "vscode": {
                    "languageId": "dotnet-interactive.fsharp"
                }
            },
            "outputs": [
                {
                    "data": {
                        "text/plain": [
                            "Boolean"
                        ]
                    },
                    "metadata": {},
                    "output_type": "display_data"
                }
            ],
            "source": [
                "// Line 85\n",
                "isVeggie (Onion (Tomato (Bottom 52))) |> getType"
            ]
        },
        {
            "cell_type": "code",
            "execution_count": null,
            "metadata": {
                "dotnet_interactive": {
                    "language": "fsharp"
                },
                "vscode": {
                    "languageId": "dotnet-interactive.fsharp"
                }
            },
            "outputs": [
                {
                    "data": {
                        "text/plain": [
                            "Boolean"
                        ]
                    },
                    "metadata": {},
                    "output_type": "display_data"
                }
            ],
            "source": [
                "// Line 86\n",
                "isVeggie (Onion (Tomato (Bottom (OneMoreThan Zero)))) |> getType"
            ]
        },
        {
            "cell_type": "code",
            "execution_count": null,
            "metadata": {
                "dotnet_interactive": {
                    "language": "fsharp"
                },
                "vscode": {
                    "languageId": "dotnet-interactive.fsharp"
                }
            },
            "outputs": [
                {
                    "data": {
                        "text/plain": [
                            "Boolean"
                        ]
                    },
                    "metadata": {},
                    "output_type": "display_data"
                }
            ],
            "source": [
                "// Line 87\n",
                "isVeggie (Onion (Tomato (Bottom false))) |> getType"
            ]
        },
        {
            "cell_type": "code",
            "execution_count": null,
            "metadata": {
                "dotnet_interactive": {
                    "language": "fsharp"
                },
                "vscode": {
                    "languageId": "dotnet-interactive.fsharp"
                }
            },
            "outputs": [
                {
                    "data": {
                        "text/plain": [
                            "whatBottom: Shish<'T> -> 'T"
                        ]
                    },
                    "metadata": {},
                    "output_type": "display_data"
                }
            ],
            "source": [
                "// Line 98\n",
                "// Line 108\n",
                "let rec whatBottom shish =\n",
                "    match shish with\n",
                "    | Bottom s -> s\n",
                "    | Onion s  -> whatBottom s\n",
                "    | Lamb s   -> whatBottom s\n",
                "    | Tomato s -> whatBottom s\n",
                "\n",
                "whatBottom |> getTypeSignature |> sprintWithLabel \"whatBottom\""
            ]
        },
        {
            "cell_type": "code",
            "execution_count": null,
            "metadata": {
                "dotnet_interactive": {
                    "language": "fsharp"
                },
                "vscode": {
                    "languageId": "dotnet-interactive.fsharp"
                }
            },
            "outputs": [
                {
                    "data": {
                        "text/html": [
                            "<div class=\"dni-plaintext\">52</div>"
                        ]
                    },
                    "metadata": {},
                    "output_type": "display_data"
                }
            ],
            "source": [
                "// Line 99\n",
                "whatBottom (Bottom 52)"
            ]
        },
        {
            "cell_type": "code",
            "execution_count": null,
            "metadata": {
                "dotnet_interactive": {
                    "language": "fsharp"
                },
                "vscode": {
                    "languageId": "dotnet-interactive.fsharp"
                }
            },
            "outputs": [
                {
                    "data": {
                        "text/html": [
                            "<div class=\"dni-plaintext\">Sword</div>"
                        ]
                    },
                    "metadata": {},
                    "output_type": "display_data"
                }
            ],
            "source": [
                "// Line 100\n",
                "whatBottom (Bottom Sword)"
            ]
        },
        {
            "cell_type": "code",
            "execution_count": null,
            "metadata": {
                "dotnet_interactive": {
                    "language": "fsharp"
                },
                "vscode": {
                    "languageId": "dotnet-interactive.fsharp"
                }
            },
            "outputs": [
                {
                    "data": {
                        "text/html": [
                            "<div class=\"dni-plaintext\">52</div>"
                        ]
                    },
                    "metadata": {},
                    "output_type": "display_data"
                }
            ],
            "source": [
                "// Line 103\n",
                "whatBottom (Tomato (Onion (Lamb (Bottom 52))))"
            ]
        },
        {
            "cell_type": "code",
            "execution_count": null,
            "metadata": {
                "dotnet_interactive": {
                    "language": "fsharp"
                },
                "vscode": {
                    "languageId": "dotnet-interactive.fsharp"
                }
            },
            "outputs": [
                {
                    "data": {
                        "text/html": [
                            "<div class=\"dni-plaintext\">52</div>"
                        ]
                    },
                    "metadata": {},
                    "output_type": "display_data"
                }
            ],
            "source": [
                "// Line 104\n",
                "whatBottom (Onion (Lamb (Bottom 52)))"
            ]
        },
        {
            "cell_type": "code",
            "execution_count": null,
            "metadata": {
                "dotnet_interactive": {
                    "language": "fsharp"
                },
                "vscode": {
                    "languageId": "dotnet-interactive.fsharp"
                }
            },
            "outputs": [
                {
                    "data": {
                        "text/html": [
                            "<div class=\"dni-plaintext\">52</div>"
                        ]
                    },
                    "metadata": {},
                    "output_type": "display_data"
                }
            ],
            "source": [
                "// Line 105\n",
                "whatBottom (Lamb (Bottom 52))"
            ]
        },
        {
            "cell_type": "code",
            "execution_count": null,
            "metadata": {
                "dotnet_interactive": {
                    "language": "fsharp"
                },
                "vscode": {
                    "languageId": "dotnet-interactive.fsharp"
                }
            },
            "outputs": [
                {
                    "data": {
                        "text/html": [
                            "<div class=\"dni-plaintext\">52</div>"
                        ]
                    },
                    "metadata": {},
                    "output_type": "display_data"
                }
            ],
            "source": [
                "// Line 106\n",
                "whatBottom (Bottom 52)"
            ]
        },
        {
            "cell_type": "markdown",
            "metadata": {
                "dotnet_interactive": {
                    "language": "fsharp"
                }
            },
            "source": [
                "## The Second Moral\n",
                "\n",
                "The number and order of the patterns in the defintion of a function should match that of the definition of the consumed `type`."
            ]
        }
    ],
    "metadata": {
        "kernelspec": {
            "display_name": ".NET (F#)",
            "language": "F#",
            "name": ".net-fsharp"
        },
        "language_info": {
            "name": "F#"
        }
    },
    "nbformat": 4,
    "nbformat_minor": 2
}