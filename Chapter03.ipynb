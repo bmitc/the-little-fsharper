{
 "cells": [
  {
   "cell_type": "markdown",
   "metadata": {
    "dotnet_interactive": {
     "language": "fsharp"
    }
   },
   "source": [
    "## Dependencies"
   ]
  },
  {
   "cell_type": "code",
   "execution_count": null,
   "metadata": {
    "dotnet_interactive": {
     "language": "fsharp"
    },
    "vscode": {
     "languageId": "dotnet-interactive.fsharp"
    }
   },
   "outputs": [],
   "source": [
    "#load \"Utilities.fsx\"\n",
    "\n",
    "open Utilities"
   ]
  },
  {
   "cell_type": "markdown",
   "metadata": {
    "dotnet_interactive": {
     "language": "fsharp"
    }
   },
   "source": [
    "## References\n",
    "\n",
    "1. [Pipeline-oriented Programming](https://fsharpforfunandprofit.com/pipeline/)"
   ]
  },
  {
   "cell_type": "markdown",
   "metadata": {},
   "source": [
    "## Chapter 3: Cons Is Still Magnificent"
   ]
  },
  {
   "cell_type": "code",
   "execution_count": null,
   "metadata": {
    "dotnet_interactive": {
     "language": "fsharp"
    },
    "vscode": {
     "languageId": "dotnet-interactive.fsharp"
    }
   },
   "outputs": [],
   "source": [
    "// Line 1\n",
    "type Pizza =\n",
    "    | Crust\n",
    "    | Cheese  of Pizza\n",
    "    | Onion   of Pizza\n",
    "    | Anchovy of Pizza\n",
    "    | Sausage of Pizza"
   ]
  },
  {
   "cell_type": "code",
   "execution_count": null,
   "metadata": {
    "dotnet_interactive": {
     "language": "fsharp"
    },
    "vscode": {
     "languageId": "dotnet-interactive.fsharp"
    }
   },
   "outputs": [
    {
     "data": {
      "text/plain": [
       "Pizza"
      ]
     },
     "metadata": {},
     "output_type": "display_data"
    }
   ],
   "source": [
    "// Line 2\n",
    "Anchovy (Onion (Anchovy (Anchovy (Cheese Crust)))) |> getType"
   ]
  },
  {
   "cell_type": "code",
   "execution_count": null,
   "metadata": {
    "dotnet_interactive": {
     "language": "fsharp"
    },
    "vscode": {
     "languageId": "dotnet-interactive.fsharp"
    }
   },
   "outputs": [
    {
     "data": {
      "text/plain": [
       "removeAnchovy: Pizza -> Pizza"
      ]
     },
     "metadata": {},
     "output_type": "display_data"
    }
   ],
   "source": [
    "// Line 7\n",
    "// Line 8\n",
    "// Line 10\n",
    "// Line 31\n",
    "let rec removeAnchovy pizza =\n",
    "    match pizza with\n",
    "    | Crust     -> Crust\n",
    "    | Cheese p  -> Cheese (removeAnchovy p)\n",
    "    | Onion p   -> Onion (removeAnchovy p)\n",
    "    | Anchovy p -> removeAnchovy p\n",
    "    | Sausage p -> Sausage (removeAnchovy p)\n",
    "\n",
    "removeAnchovy |> getTypeSignature |> sprintWithLabel \"removeAnchovy\""
   ]
  },
  {
   "cell_type": "code",
   "execution_count": null,
   "metadata": {
    "dotnet_interactive": {
     "language": "fsharp"
    },
    "vscode": {
     "languageId": "dotnet-interactive.fsharp"
    }
   },
   "outputs": [
    {
     "name": "stdout",
     "output_type": "stream",
     "text": [
      "Onion (Cheese Crust)\r\n"
     ]
    }
   ],
   "source": [
    "// Line 4\n",
    "removeAnchovy (Anchovy (Onion (Anchovy (Anchovy (Cheese Crust))))) |> print"
   ]
  },
  {
   "cell_type": "code",
   "execution_count": null,
   "metadata": {
    "dotnet_interactive": {
     "language": "fsharp"
    },
    "vscode": {
     "languageId": "dotnet-interactive.fsharp"
    }
   },
   "outputs": [
    {
     "name": "stdout",
     "output_type": "stream",
     "text": [
      "Sausage (Onion (Sausage (Cheese Crust)))\r\n"
     ]
    }
   ],
   "source": [
    "// Line 5\n",
    "removeAnchovy (Sausage (Onion (Anchovy (Sausage (Cheese Crust))))) |> print"
   ]
  },
  {
   "cell_type": "code",
   "execution_count": null,
   "metadata": {
    "dotnet_interactive": {
     "language": "fsharp"
    },
    "vscode": {
     "languageId": "dotnet-interactive.fsharp"
    }
   },
   "outputs": [
    {
     "data": {
      "text/html": [
       "<div class=\"dni-plaintext\">Crust</div>"
      ]
     },
     "metadata": {},
     "output_type": "display_data"
    }
   ],
   "source": [
    "// Line 11\n",
    "removeAnchovy (Anchovy Crust)"
   ]
  },
  {
   "cell_type": "code",
   "execution_count": null,
   "metadata": {
    "dotnet_interactive": {
     "language": "fsharp"
    },
    "vscode": {
     "languageId": "dotnet-interactive.fsharp"
    }
   },
   "outputs": [
    {
     "name": "stdout",
     "output_type": "stream",
     "text": [
      "Crust\r\n"
     ]
    }
   ],
   "source": [
    "// Line 13\n",
    "// Line 18\n",
    "removeAnchovy (Anchovy (Anchovy Crust)) |> print"
   ]
  },
  {
   "cell_type": "code",
   "execution_count": null,
   "metadata": {
    "dotnet_interactive": {
     "language": "fsharp"
    },
    "vscode": {
     "languageId": "dotnet-interactive.fsharp"
    }
   },
   "outputs": [
    {
     "name": "stdout",
     "output_type": "stream",
     "text": [
      "Cheese (Cheese Crust)\r\n"
     ]
    }
   ],
   "source": [
    "// Line 24\n",
    "removeAnchovy (Cheese (Anchovy (Cheese Crust))) |> print"
   ]
  },
  {
   "cell_type": "code",
   "execution_count": null,
   "metadata": {
    "dotnet_interactive": {
     "language": "fsharp"
    },
    "vscode": {
     "languageId": "dotnet-interactive.fsharp"
    }
   },
   "outputs": [
    {
     "data": {
      "text/plain": [
       "topAnchovyWithCheese: Pizza -> Pizza"
      ]
     },
     "metadata": {},
     "output_type": "display_data"
    }
   ],
   "source": [
    "// Line 38\n",
    "// Line 43\n",
    "// Line 44\n",
    "let rec topAnchovyWithCheese pizza =\n",
    "    match pizza with\n",
    "    | Crust     -> Crust\n",
    "    | Cheese p  -> Cheese (topAnchovyWithCheese p)\n",
    "    | Onion p   -> Onion (topAnchovyWithCheese p)\n",
    "    | Anchovy p -> Cheese (Anchovy (topAnchovyWithCheese p))\n",
    "    | Sausage p -> Sausage (topAnchovyWithCheese p)\n",
    "\n",
    "topAnchovyWithCheese |> getTypeSignature |> sprintWithLabel \"topAnchovyWithCheese\""
   ]
  },
  {
   "cell_type": "code",
   "execution_count": null,
   "metadata": {
    "dotnet_interactive": {
     "language": "fsharp"
    },
    "vscode": {
     "languageId": "dotnet-interactive.fsharp"
    }
   },
   "outputs": [
    {
     "name": "stdout",
     "output_type": "stream",
     "text": [
      "Onion (Cheese (Anchovy (Cheese (Cheese (Anchovy Crust)))))\r\n"
     ]
    }
   ],
   "source": [
    "// Line 36\n",
    "topAnchovyWithCheese (Onion (Anchovy (Cheese (Anchovy Crust)))) |> print"
   ]
  },
  {
   "cell_type": "code",
   "execution_count": null,
   "metadata": {
    "dotnet_interactive": {
     "language": "fsharp"
    },
    "vscode": {
     "languageId": "dotnet-interactive.fsharp"
    }
   },
   "outputs": [
    {
     "name": "stdout",
     "output_type": "stream",
     "text": [
      "Onion (Cheese (Sausage Crust))\r\n"
     ]
    }
   ],
   "source": [
    "// Line 37\n",
    "topAnchovyWithCheese (Onion (Cheese (Sausage Crust))) |> print"
   ]
  },
  {
   "cell_type": "code",
   "execution_count": null,
   "metadata": {
    "dotnet_interactive": {
     "language": "fsharp"
    },
    "vscode": {
     "languageId": "dotnet-interactive.fsharp"
    }
   },
   "outputs": [
    {
     "name": "stdout",
     "output_type": "stream",
     "text": [
      "Onion (Cheese Crust)\r\n"
     ]
    }
   ],
   "source": [
    "// Line 45\n",
    "topAnchovyWithCheese (removeAnchovy (Onion (Anchovy (Cheese (Anchovy Crust))))) |> print"
   ]
  },
  {
   "cell_type": "code",
   "execution_count": null,
   "metadata": {
    "dotnet_interactive": {
     "language": "fsharp"
    },
    "vscode": {
     "languageId": "dotnet-interactive.fsharp"
    }
   },
   "outputs": [
    {
     "name": "stdout",
     "output_type": "stream",
     "text": [
      "Onion (Cheese (Cheese (Cheese Crust)))\r\n"
     ]
    }
   ],
   "source": [
    "// Line 46\n",
    "removeAnchovy (topAnchovyWithCheese (Onion (Anchovy (Cheese (Anchovy Crust))))) |> print"
   ]
  },
  {
   "cell_type": "code",
   "execution_count": null,
   "metadata": {
    "dotnet_interactive": {
     "language": "fsharp"
    },
    "vscode": {
     "languageId": "dotnet-interactive.fsharp"
    }
   },
   "outputs": [
    {
     "data": {
      "text/plain": [
       "substAnchovyByCheese: Pizza -> Pizza"
      ]
     },
     "metadata": {},
     "output_type": "display_data"
    }
   ],
   "source": [
    "// Line 49\n",
    "let substAnchovyByCheese pizza =\n",
    "    pizza\n",
    "    |> topAnchovyWithCheese\n",
    "    |> removeAnchovy\n",
    "\n",
    "substAnchovyByCheese |> getTypeSignature |> sprintWithLabel \"substAnchovyByCheese\""
   ]
  },
  {
   "cell_type": "markdown",
   "metadata": {},
   "source": [
    "**Note**: We could also define this by:\n",
    "\n",
    "```fsharp\n",
    "let substAnchovyByCheese pizza = removeAnchovy (topAnchovyWithCheese pizza)\n",
    "```"
   ]
  },
  {
   "cell_type": "code",
   "execution_count": null,
   "metadata": {
    "dotnet_interactive": {
     "language": "fsharp"
    },
    "vscode": {
     "languageId": "dotnet-interactive.fsharp"
    }
   },
   "outputs": [
    {
     "data": {
      "text/plain": [
       "substAnchovyByCheese: Pizza -> Pizza"
      ]
     },
     "metadata": {},
     "output_type": "display_data"
    }
   ],
   "source": [
    "// Line 51\n",
    "// Line 53\n",
    "let rec substAnchovyByCheese pizza = \n",
    "    match pizza with \n",
    "    | Crust     -> Crust\n",
    "    | Cheese p  -> Cheese (substAnchovyByCheese p)\n",
    "    | Onion p   -> Onion (substAnchovyByCheese p)\n",
    "    | Anchovy p -> Cheese (substAnchovyByCheese p)\n",
    "    | Sausage p -> Sausage (substAnchovyByCheese p)\n",
    "\n",
    "substAnchovyByCheese |> getTypeSignature |> sprintWithLabel \"substAnchovyByCheese\""
   ]
  },
  {
   "cell_type": "markdown",
   "metadata": {},
   "source": [
    "## The Third Moral\n",
    "\n",
    "Functions that produce values of a `type` must use the associated constructors to build data of that type."
   ]
  }
 ],
 "metadata": {
  "kernelspec": {
   "display_name": ".NET (F#)",
   "language": "F#",
   "name": ".net-fsharp"
  },
  "language_info": {
   "name": "F#"
  }
 },
 "nbformat": 4,
 "nbformat_minor": 2
}
